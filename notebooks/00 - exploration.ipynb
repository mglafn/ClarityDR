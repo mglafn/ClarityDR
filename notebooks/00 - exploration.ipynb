{
 "cells": [
  {
   "cell_type": "markdown",
   "id": "48784c79",
   "metadata": {},
   "source": [
    "Dataset from [Kaggle](https://www.kaggle.com/c/aptos2019-blindness-detection/overview)"
   ]
  },
  {
   "cell_type": "code",
   "execution_count": null,
   "id": "47d3e402",
   "metadata": {},
   "outputs": [],
   "source": [
    "\n",
    "import sys\n",
    "sys.path.append(\"../src\")  \n",
    "from imports import *  \n",
    "\n",
    "path = kagglehub.dataset_download(\"mariaherrerot/aptos2019\")\n",
    "print(\"Dataset downloaded to:\", path)\n",
    "\n",
    "# Show existing files\n",
    "print(\"Files in dataset:\", os.listdir(path))\n",
    "\n",
    "#Assign dataframes\n",
    "df_train = pd.read_csv(os.path.join(path, \"train_1.csv\"))\n",
    "df_test = pd.read_csv(os.path.join(path, \"test.csv\"))\n",
    "df_valid = pd.read_csv(os.path.join(path,\"valid.csv\"))"
   ]
  }
 ],
 "metadata": {
  "kernelspec": {
   "display_name": "Python 3",
   "language": "python",
   "name": "python3"
  },
  "language_info": {
   "codemirror_mode": {
    "name": "ipython",
    "version": 3
   },
   "file_extension": ".py",
   "mimetype": "text/x-python",
   "name": "python",
   "nbconvert_exporter": "python",
   "pygments_lexer": "ipython3",
   "version": "3.13.5"
  }
 },
 "nbformat": 4,
 "nbformat_minor": 5
}
