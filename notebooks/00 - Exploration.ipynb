{
 "cells": [
  {
   "cell_type": "markdown",
   "id": "48784c79",
   "metadata": {},
   "source": [
    "Dataset from [Kaggle](https://www.kaggle.com/c/aptos2019-blindness-detection/overview)"
   ]
  },
  {
   "cell_type": "code",
   "execution_count": null,
   "id": "47d3e402",
   "metadata": {},
   "outputs": [],
   "source": [
    "import sys\n",
    "sys.path.append(\"../src\")  \n",
    "from imports import *  \n",
    "import importdata\n",
    "\n",
    "#Import Data\n",
    "importdata.main()\n",
    "df_train = pd.read_csv('../data/raw/aptos2019-blindness-detection/train.csv')"
   ]
  },
  {
   "cell_type": "code",
   "execution_count": null,
   "id": "364cc0d6",
   "metadata": {},
   "outputs": [],
   "source": [
    "train_image_dir = '../data/raw/aptos2019-blindness-detection/train_images/'\n",
    "\n",
    "class_labels = {\n",
    "    0: 'No DR',\n",
    "    1: 'Mild',\n",
    "    2: 'Moderate',\n",
    "    3: 'Severe',\n",
    "    4: 'Proliferative'\n",
    "}\n",
    "\n",
    "plt.figure(figsize=(20, 10))\n",
    "\n",
    "for i in range(5):\n",
    "    # Find the first image for the current class\n",
    "    sample_id = df_train[df_train['diagnosis'] == i].iloc[0]['id_code']\n",
    "    image_path = os.path.join(train_image_dir, f\"{sample_id}.png\")\n",
    "    \n",
    "    # Load the image\n",
    "    img = cv2.imread(image_path)\n",
    "    img = cv2.cvtColor(img, cv2.COLOR_BGR2RGB) # Convert for matplotlib\n",
    "    img = cv2.resize(img, (224, 224)) # Resize for consistent display\n",
    "    \n",
    "    # Display the image\n",
    "    plt.subplot(1, 5, i+1)\n",
    "    plt.imshow(img)\n",
    "    plt.title(f\"Class: {i} ({class_labels[i]})\")\n",
    "    plt.axis('off')\n",
    "    \n",
    "plt.show()"
   ]
  },
  {
   "cell_type": "code",
   "execution_count": null,
   "id": "2935aa03",
   "metadata": {},
   "outputs": [],
   "source": [
    "class_counts = df_train['diagnosis'].value_counts().sort_index()\n",
    "\n",
    "# Plot the distribution\n",
    "plt.figure(figsize=(10, 6))\n",
    "\n",
    "# The corrected line is below:\n",
    "sns.barplot(x=class_counts.index, y=class_counts.values, palette=\"viridis\", hue=class_counts.index, legend=False)\n",
    "\n",
    "plt.title('Distribution of Diabetic Retinopathy Classes')\n",
    "plt.xlabel('Diagnosis (Severity)')\n",
    "plt.ylabel('Number of Images')\n",
    "plt.xticks(ticks=[0, 1, 2, 3, 4], labels=['No DR', 'Mild', 'Moderate', 'Severe', 'Proliferative'])\n",
    "plt.show()"
   ]
  },
  {
   "cell_type": "code",
   "execution_count": null,
   "id": "69ed5e88",
   "metadata": {},
   "outputs": [],
   "source": []
  }
 ],
 "metadata": {
  "kernelspec": {
   "display_name": "Python 3",
   "language": "python",
   "name": "python3"
  },
  "language_info": {
   "codemirror_mode": {
    "name": "ipython",
    "version": 3
   },
   "file_extension": ".py",
   "mimetype": "text/x-python",
   "name": "python",
   "nbconvert_exporter": "python",
   "pygments_lexer": "ipython3",
   "version": "3.13.5"
  }
 },
 "nbformat": 4,
 "nbformat_minor": 5
}
